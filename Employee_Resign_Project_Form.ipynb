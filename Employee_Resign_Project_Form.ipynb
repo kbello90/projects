{
  "nbformat": 4,
  "nbformat_minor": 0,
  "metadata": {
    "colab": {
      "provenance": []
    },
    "kernelspec": {
      "name": "python3",
      "display_name": "Python 3"
    },
    "language_info": {
      "name": "python"
    }
  },
  "cells": [
    {
      "cell_type": "code",
      "execution_count": null,
      "metadata": {
        "id": "F6Yjr8hq9oYc"
      },
      "outputs": [],
      "source": []
    },
    {
      "cell_type": "markdown",
      "source": [
        "\n",
        "## Project Workflow\n",
        "\n"
      ],
      "metadata": {
        "id": "wHNsWv9O9tpV"
      }
    },
    {
      "cell_type": "code",
      "source": [],
      "metadata": {
        "id": "pmAaskkg9suM"
      },
      "execution_count": null,
      "outputs": []
    },
    {
      "cell_type": "markdown",
      "source": [
        "1. Problem Definition\n",
        "\n",
        "        Objective:\n",
        "\n",
        "        Scope:"
      ],
      "metadata": {
        "id": "_nh8Up0593fc"
      }
    },
    {
      "cell_type": "markdown",
      "source": [
        "## 2. Data Collection\n",
        "Collect data from the company’s database containing customer demographics, usage patterns, and service details."
      ],
      "metadata": {
        "id": "esERxLph-UFr"
      }
    },
    {
      "cell_type": "code",
      "source": [
        "from google.colab import files\n",
        "uploaded = files.upload()"
      ],
      "metadata": {
        "id": "KQ09uXnxGwn3"
      },
      "execution_count": null,
      "outputs": []
    },
    {
      "cell_type": "code",
      "source": [
        "import matplotlib.pyplot as plt\n",
        "import numpy as np\n",
        "!pip install pycaret"
      ],
      "metadata": {
        "id": "ylmeGETG6Qj_"
      },
      "execution_count": null,
      "outputs": []
    },
    {
      "cell_type": "code",
      "source": [
        "import io\n",
        "import pandas as pd\n",
        "Emp = pd.read_csv(io.BytesIO(uploaded['empleados.csv']))"
      ],
      "metadata": {
        "id": "R7tFfh4b6TqB"
      },
      "execution_count": null,
      "outputs": []
    },
    {
      "cell_type": "markdown",
      "source": [
        "## 3. Data Exploration and Cleaning\n",
        "     Perform EDA to identify patterns in the data.\n",
        "     Clean the data by handling missing values and outliers."
      ],
      "metadata": {
        "id": "ZoK745W9-eTs"
      }
    },
    {
      "cell_type": "code",
      "source": [
        "Emp.shape"
      ],
      "metadata": {
        "id": "8oD79gO5-qti"
      },
      "execution_count": null,
      "outputs": []
    },
    {
      "cell_type": "code",
      "source": [
        "Emp.dtypes"
      ],
      "metadata": {
        "id": "Bz-5R-rA-9G0"
      },
      "execution_count": null,
      "outputs": []
    },
    {
      "cell_type": "code",
      "source": [],
      "metadata": {
        "id": "xLdCkXwp6g_H"
      },
      "execution_count": null,
      "outputs": []
    },
    {
      "cell_type": "code",
      "source": [],
      "metadata": {
        "id": "q9KdqT4i6hCl"
      },
      "execution_count": null,
      "outputs": []
    },
    {
      "cell_type": "markdown",
      "source": [
        "## 4. Feature Engineering\n",
        "  Select features such as customer tenure, monthly charges, and contract type.\n",
        "  Create new features like the total amount spent and average monthly charges"
      ],
      "metadata": {
        "id": "3V5mtLsU-9a5"
      }
    },
    {
      "cell_type": "code",
      "source": [],
      "metadata": {
        "id": "Gkj4Y7cL-_w1"
      },
      "execution_count": null,
      "outputs": []
    },
    {
      "cell_type": "code",
      "source": [],
      "metadata": {
        "id": "zKLdP5C6_TJt"
      },
      "execution_count": null,
      "outputs": []
    },
    {
      "cell_type": "markdown",
      "source": [
        "## 5. Model Selection and Training\n",
        "  Choose algorithms like logistic regression, decision trees, and random forests.\n",
        "  Train the models and tune hyperparameters using cross-validation."
      ],
      "metadata": {
        "id": "9zGTGkL4_TaE"
      }
    },
    {
      "cell_type": "code",
      "source": [
        "from pycaret.classification import *\n",
        "Empleado = setup(Emp, target = 'abandono')"
      ],
      "metadata": {
        "id": "xTmrf_Gj_XwP"
      },
      "execution_count": null,
      "outputs": []
    },
    {
      "cell_type": "code",
      "source": [
        "MejorModelo = compare_models()"
      ],
      "metadata": {
        "id": "0jBF_XUC_dtM"
      },
      "execution_count": null,
      "outputs": []
    },
    {
      "cell_type": "code",
      "source": [
        "evaluate_model(MejorModelo)"
      ],
      "metadata": {
        "id": "ZXJk8xYp60fT"
      },
      "execution_count": null,
      "outputs": []
    },
    {
      "cell_type": "code",
      "source": [
        "mimodelo=create_model('rf')"
      ],
      "metadata": {
        "id": "UU_y08Ba66KS"
      },
      "execution_count": null,
      "outputs": []
    },
    {
      "cell_type": "code",
      "source": [
        "plot_model(MejorModelo, plot = 'vc')"
      ],
      "metadata": {
        "id": "S83wE-nv69Ru"
      },
      "execution_count": null,
      "outputs": []
    },
    {
      "cell_type": "code",
      "source": [
        "plot_model(mimodelo, plot = 'feature')"
      ],
      "metadata": {
        "id": "9CT3SiGG7BP-"
      },
      "execution_count": null,
      "outputs": []
    },
    {
      "cell_type": "markdown",
      "source": [
        "## 6. Model Evaluation\n",
        "  Evaluate models using accuracy, precision, recall, and F1 score.\n",
        "  Select the best-performing model."
      ],
      "metadata": {
        "id": "o0a_tMRQ_d-5"
      }
    },
    {
      "cell_type": "markdown",
      "source": [],
      "metadata": {
        "id": "EhZ_LuMy_v0f"
      }
    },
    {
      "cell_type": "code",
      "source": [
        "#Paso 6: Cargar set de datos a predecir\n",
        "from google.colab import files\n",
        "uploaded = files.upload()"
      ],
      "metadata": {
        "id": "i8eqMhhe_iUR"
      },
      "execution_count": null,
      "outputs": []
    },
    {
      "cell_type": "code",
      "source": [
        "EmpN = pd.read_csv(io.BytesIO(uploaded['empleadosNuevo.csv']))\n",
        "EmpN.head()"
      ],
      "metadata": {
        "id": "U_KBhXjT_ijp"
      },
      "execution_count": null,
      "outputs": []
    },
    {
      "cell_type": "code",
      "source": [
        "#Paso 7: Predecir resultados\n",
        "pred = predict_model(MejorModelo, data=EmpN)\n",
        "pred.head()\n"
      ],
      "metadata": {
        "id": "qg36liHm7LhC"
      },
      "execution_count": null,
      "outputs": []
    },
    {
      "cell_type": "code",
      "source": [
        "# Step 8: Save the Model in Colab\n",
        "save_model(MejorModelo, 'MejorModelo')\n",
        "\n",
        "# Step 9: Download the Model to Local Machine\n",
        "files.download('MejorModelo.pkl')"
      ],
      "metadata": {
        "id": "v26DHttu7Lni"
      },
      "execution_count": null,
      "outputs": []
    },
    {
      "cell_type": "code",
      "source": [
        "MejorModelo"
      ],
      "metadata": {
        "id": "reaJ54O67PUM"
      },
      "execution_count": null,
      "outputs": []
    },
    {
      "cell_type": "code",
      "source": [
        "pred"
      ],
      "metadata": {
        "id": "pM76PO-R7S5K"
      },
      "execution_count": null,
      "outputs": []
    },
    {
      "cell_type": "code",
      "source": [
        "mimodelo"
      ],
      "metadata": {
        "id": "NXcNCR__7VoA"
      },
      "execution_count": null,
      "outputs": []
    },
    {
      "cell_type": "markdown",
      "source": [
        "## 7. Model Deployment\n",
        "  Serialize the model using joblib.\n",
        "  Develop a Flask API to serve the model predictions.\n",
        "  Containerize the application with Docker."
      ],
      "metadata": {
        "id": "YxOxS-pY_i-_"
      }
    },
    {
      "cell_type": "code",
      "source": [],
      "metadata": {
        "id": "NV-AsiJ__xfU"
      },
      "execution_count": null,
      "outputs": []
    },
    {
      "cell_type": "code",
      "source": [],
      "metadata": {
        "id": "Fug3L3rn_xpg"
      },
      "execution_count": null,
      "outputs": []
    },
    {
      "cell_type": "markdown",
      "source": [
        "## 8. Monitoring and Maintenance\n",
        "  Monitor model performance with Prometheus and Grafana.\n",
        "  Log predictions and retrain the model periodically with new data."
      ],
      "metadata": {
        "id": "O6_F9ZEN_x7R"
      }
    },
    {
      "cell_type": "code",
      "source": [],
      "metadata": {
        "id": "fiLjLkfC_46V"
      },
      "execution_count": null,
      "outputs": []
    },
    {
      "cell_type": "code",
      "source": [],
      "metadata": {
        "id": "hx5dYbig_5Ko"
      },
      "execution_count": null,
      "outputs": []
    },
    {
      "cell_type": "markdown",
      "source": [
        "## 9. Documentation and Reporting\n",
        "  Document the entire process including data sources, preprocessing steps, and model performance.\n",
        "  Create a report for stakeholders summarizing the results and insights."
      ],
      "metadata": {
        "id": "ewA7jxC8_5kQ"
      }
    },
    {
      "cell_type": "code",
      "source": [],
      "metadata": {
        "id": "VmReCMrqAAHN"
      },
      "execution_count": null,
      "outputs": []
    },
    {
      "cell_type": "markdown",
      "source": [
        "## 10. Ethical Considerations and Compliance\n",
        "  Ensure the model does not exhibit bias against any customer group.\n",
        "  Comply with data privacy regulations like GDPR."
      ],
      "metadata": {
        "id": "JEB4LMEWAE1g"
      }
    },
    {
      "cell_type": "code",
      "source": [],
      "metadata": {
        "id": "W19O1VNZAJf1"
      },
      "execution_count": null,
      "outputs": []
    }
  ]
}